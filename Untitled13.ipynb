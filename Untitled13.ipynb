{
  "nbformat": 4,
  "nbformat_minor": 0,
  "metadata": {
    "colab": {
      "name": "Untitled13.ipynb",
      "provenance": []
    },
    "kernelspec": {
      "name": "python3",
      "display_name": "Python 3"
    }
  },
  "cells": [
    {
      "cell_type": "code",
      "metadata": {
        "id": "8K4U3JwJBJJR"
      },
      "source": [
        "import numpy as np\r\n",
        "import pandas as pd\r\n",
        "import matplotlib.pyplot as plt\r\n",
        "import os\r\n",
        "import warnings\r\n",
        "\r\n",
        "warnings.filterwarnings('ignore')\r\n",
        "%matplotlib inline\r\n",
        "\r\n",
        "import tensorflow.keras as tf"
      ],
      "execution_count": 1,
      "outputs": []
    },
    {
      "cell_type": "code",
      "metadata": {
        "colab": {
          "base_uri": "https://localhost:8080/",
          "height": 195
        },
        "id": "4e2owpHUCesD",
        "outputId": "bc1890f3-3fff-42b0-e79d-74a75f7853cc"
      },
      "source": [
        "ratings_df = pd.read_csv(\"/content/drive/MyDrive/Colab Notebooks/archive (1)/ratings.csv\") \r\n",
        "books_df = pd.read_csv(\"/content/drive/MyDrive/Colab Notebooks/archive (1)/books.csv\")\r\n",
        "ratings_df.head()"
      ],
      "execution_count": 2,
      "outputs": [
        {
          "output_type": "execute_result",
          "data": {
            "text/html": [
              "<div>\n",
              "<style scoped>\n",
              "    .dataframe tbody tr th:only-of-type {\n",
              "        vertical-align: middle;\n",
              "    }\n",
              "\n",
              "    .dataframe tbody tr th {\n",
              "        vertical-align: top;\n",
              "    }\n",
              "\n",
              "    .dataframe thead th {\n",
              "        text-align: right;\n",
              "    }\n",
              "</style>\n",
              "<table border=\"1\" class=\"dataframe\">\n",
              "  <thead>\n",
              "    <tr style=\"text-align: right;\">\n",
              "      <th></th>\n",
              "      <th>book_id</th>\n",
              "      <th>user_id</th>\n",
              "      <th>rating</th>\n",
              "    </tr>\n",
              "  </thead>\n",
              "  <tbody>\n",
              "    <tr>\n",
              "      <th>0</th>\n",
              "      <td>1</td>\n",
              "      <td>314</td>\n",
              "      <td>5</td>\n",
              "    </tr>\n",
              "    <tr>\n",
              "      <th>1</th>\n",
              "      <td>1</td>\n",
              "      <td>439</td>\n",
              "      <td>3</td>\n",
              "    </tr>\n",
              "    <tr>\n",
              "      <th>2</th>\n",
              "      <td>1</td>\n",
              "      <td>588</td>\n",
              "      <td>5</td>\n",
              "    </tr>\n",
              "    <tr>\n",
              "      <th>3</th>\n",
              "      <td>1</td>\n",
              "      <td>1169</td>\n",
              "      <td>4</td>\n",
              "    </tr>\n",
              "    <tr>\n",
              "      <th>4</th>\n",
              "      <td>1</td>\n",
              "      <td>1185</td>\n",
              "      <td>4</td>\n",
              "    </tr>\n",
              "  </tbody>\n",
              "</table>\n",
              "</div>"
            ],
            "text/plain": [
              "   book_id  user_id  rating\n",
              "0        1      314       5\n",
              "1        1      439       3\n",
              "2        1      588       5\n",
              "3        1     1169       4\n",
              "4        1     1185       4"
            ]
          },
          "metadata": {
            "tags": []
          },
          "execution_count": 2
        }
      ]
    },
    {
      "cell_type": "code",
      "metadata": {
        "colab": {
          "base_uri": "https://localhost:8080/",
          "height": 417
        },
        "id": "Jbi7hbW0CuAU",
        "outputId": "bad3e517-b268-4c1f-b532-c6ee2a486181"
      },
      "source": [
        "books_df.head()"
      ],
      "execution_count": 3,
      "outputs": [
        {
          "output_type": "execute_result",
          "data": {
            "text/html": [
              "<div>\n",
              "<style scoped>\n",
              "    .dataframe tbody tr th:only-of-type {\n",
              "        vertical-align: middle;\n",
              "    }\n",
              "\n",
              "    .dataframe tbody tr th {\n",
              "        vertical-align: top;\n",
              "    }\n",
              "\n",
              "    .dataframe thead th {\n",
              "        text-align: right;\n",
              "    }\n",
              "</style>\n",
              "<table border=\"1\" class=\"dataframe\">\n",
              "  <thead>\n",
              "    <tr style=\"text-align: right;\">\n",
              "      <th></th>\n",
              "      <th>id</th>\n",
              "      <th>book_id</th>\n",
              "      <th>best_book_id</th>\n",
              "      <th>work_id</th>\n",
              "      <th>books_count</th>\n",
              "      <th>isbn</th>\n",
              "      <th>isbn13</th>\n",
              "      <th>authors</th>\n",
              "      <th>original_publication_year</th>\n",
              "      <th>original_title</th>\n",
              "      <th>title</th>\n",
              "      <th>language_code</th>\n",
              "      <th>average_rating</th>\n",
              "      <th>ratings_count</th>\n",
              "      <th>work_ratings_count</th>\n",
              "      <th>work_text_reviews_count</th>\n",
              "      <th>ratings_1</th>\n",
              "      <th>ratings_2</th>\n",
              "      <th>ratings_3</th>\n",
              "      <th>ratings_4</th>\n",
              "      <th>ratings_5</th>\n",
              "      <th>image_url</th>\n",
              "      <th>small_image_url</th>\n",
              "    </tr>\n",
              "  </thead>\n",
              "  <tbody>\n",
              "    <tr>\n",
              "      <th>0</th>\n",
              "      <td>1</td>\n",
              "      <td>2767052</td>\n",
              "      <td>2767052</td>\n",
              "      <td>2792775</td>\n",
              "      <td>272</td>\n",
              "      <td>439023483</td>\n",
              "      <td>9.780439e+12</td>\n",
              "      <td>Suzanne Collins</td>\n",
              "      <td>2008.0</td>\n",
              "      <td>The Hunger Games</td>\n",
              "      <td>The Hunger Games (The Hunger Games, #1)</td>\n",
              "      <td>eng</td>\n",
              "      <td>4.34</td>\n",
              "      <td>4780653</td>\n",
              "      <td>4942365</td>\n",
              "      <td>155254</td>\n",
              "      <td>66715</td>\n",
              "      <td>127936</td>\n",
              "      <td>560092</td>\n",
              "      <td>1481305</td>\n",
              "      <td>2706317</td>\n",
              "      <td>https://images.gr-assets.com/books/1447303603m...</td>\n",
              "      <td>https://images.gr-assets.com/books/1447303603s...</td>\n",
              "    </tr>\n",
              "    <tr>\n",
              "      <th>1</th>\n",
              "      <td>2</td>\n",
              "      <td>3</td>\n",
              "      <td>3</td>\n",
              "      <td>4640799</td>\n",
              "      <td>491</td>\n",
              "      <td>439554934</td>\n",
              "      <td>9.780440e+12</td>\n",
              "      <td>J.K. Rowling, Mary GrandPré</td>\n",
              "      <td>1997.0</td>\n",
              "      <td>Harry Potter and the Philosopher's Stone</td>\n",
              "      <td>Harry Potter and the Sorcerer's Stone (Harry P...</td>\n",
              "      <td>eng</td>\n",
              "      <td>4.44</td>\n",
              "      <td>4602479</td>\n",
              "      <td>4800065</td>\n",
              "      <td>75867</td>\n",
              "      <td>75504</td>\n",
              "      <td>101676</td>\n",
              "      <td>455024</td>\n",
              "      <td>1156318</td>\n",
              "      <td>3011543</td>\n",
              "      <td>https://images.gr-assets.com/books/1474154022m...</td>\n",
              "      <td>https://images.gr-assets.com/books/1474154022s...</td>\n",
              "    </tr>\n",
              "    <tr>\n",
              "      <th>2</th>\n",
              "      <td>3</td>\n",
              "      <td>41865</td>\n",
              "      <td>41865</td>\n",
              "      <td>3212258</td>\n",
              "      <td>226</td>\n",
              "      <td>316015849</td>\n",
              "      <td>9.780316e+12</td>\n",
              "      <td>Stephenie Meyer</td>\n",
              "      <td>2005.0</td>\n",
              "      <td>Twilight</td>\n",
              "      <td>Twilight (Twilight, #1)</td>\n",
              "      <td>en-US</td>\n",
              "      <td>3.57</td>\n",
              "      <td>3866839</td>\n",
              "      <td>3916824</td>\n",
              "      <td>95009</td>\n",
              "      <td>456191</td>\n",
              "      <td>436802</td>\n",
              "      <td>793319</td>\n",
              "      <td>875073</td>\n",
              "      <td>1355439</td>\n",
              "      <td>https://images.gr-assets.com/books/1361039443m...</td>\n",
              "      <td>https://images.gr-assets.com/books/1361039443s...</td>\n",
              "    </tr>\n",
              "    <tr>\n",
              "      <th>3</th>\n",
              "      <td>4</td>\n",
              "      <td>2657</td>\n",
              "      <td>2657</td>\n",
              "      <td>3275794</td>\n",
              "      <td>487</td>\n",
              "      <td>61120081</td>\n",
              "      <td>9.780061e+12</td>\n",
              "      <td>Harper Lee</td>\n",
              "      <td>1960.0</td>\n",
              "      <td>To Kill a Mockingbird</td>\n",
              "      <td>To Kill a Mockingbird</td>\n",
              "      <td>eng</td>\n",
              "      <td>4.25</td>\n",
              "      <td>3198671</td>\n",
              "      <td>3340896</td>\n",
              "      <td>72586</td>\n",
              "      <td>60427</td>\n",
              "      <td>117415</td>\n",
              "      <td>446835</td>\n",
              "      <td>1001952</td>\n",
              "      <td>1714267</td>\n",
              "      <td>https://images.gr-assets.com/books/1361975680m...</td>\n",
              "      <td>https://images.gr-assets.com/books/1361975680s...</td>\n",
              "    </tr>\n",
              "    <tr>\n",
              "      <th>4</th>\n",
              "      <td>5</td>\n",
              "      <td>4671</td>\n",
              "      <td>4671</td>\n",
              "      <td>245494</td>\n",
              "      <td>1356</td>\n",
              "      <td>743273567</td>\n",
              "      <td>9.780743e+12</td>\n",
              "      <td>F. Scott Fitzgerald</td>\n",
              "      <td>1925.0</td>\n",
              "      <td>The Great Gatsby</td>\n",
              "      <td>The Great Gatsby</td>\n",
              "      <td>eng</td>\n",
              "      <td>3.89</td>\n",
              "      <td>2683664</td>\n",
              "      <td>2773745</td>\n",
              "      <td>51992</td>\n",
              "      <td>86236</td>\n",
              "      <td>197621</td>\n",
              "      <td>606158</td>\n",
              "      <td>936012</td>\n",
              "      <td>947718</td>\n",
              "      <td>https://images.gr-assets.com/books/1490528560m...</td>\n",
              "      <td>https://images.gr-assets.com/books/1490528560s...</td>\n",
              "    </tr>\n",
              "  </tbody>\n",
              "</table>\n",
              "</div>"
            ],
            "text/plain": [
              "   id  ...                                    small_image_url\n",
              "0   1  ...  https://images.gr-assets.com/books/1447303603s...\n",
              "1   2  ...  https://images.gr-assets.com/books/1474154022s...\n",
              "2   3  ...  https://images.gr-assets.com/books/1361039443s...\n",
              "3   4  ...  https://images.gr-assets.com/books/1361975680s...\n",
              "4   5  ...  https://images.gr-assets.com/books/1490528560s...\n",
              "\n",
              "[5 rows x 23 columns]"
            ]
          },
          "metadata": {
            "tags": []
          },
          "execution_count": 3
        }
      ]
    },
    {
      "cell_type": "code",
      "metadata": {
        "colab": {
          "base_uri": "https://localhost:8080/"
        },
        "id": "vtALZlVMC0J-",
        "outputId": "d9562bab-4e9b-4d6b-8a7e-f4dc909f638b"
      },
      "source": [
        "print(ratings_df.shape)\r\n",
        "print(ratings_df.user_id.nunique())\r\n",
        "print(ratings_df.book_id.nunique())\r\n",
        "ratings_df.isna().sum()"
      ],
      "execution_count": 4,
      "outputs": [
        {
          "output_type": "stream",
          "text": [
            "(981756, 3)\n",
            "53424\n",
            "10000\n"
          ],
          "name": "stdout"
        },
        {
          "output_type": "execute_result",
          "data": {
            "text/plain": [
              "book_id    0\n",
              "user_id    0\n",
              "rating     0\n",
              "dtype: int64"
            ]
          },
          "metadata": {
            "tags": []
          },
          "execution_count": 4
        }
      ]
    },
    {
      "cell_type": "code",
      "metadata": {
        "colab": {
          "base_uri": "https://localhost:8080/"
        },
        "id": "BHXpk7CzC44I",
        "outputId": "e14dce01-2b54-4763-8197-58718145c21a"
      },
      "source": [
        "from sklearn.model_selection import train_test_split\r\n",
        "Xtrain, Xtest = train_test_split(ratings_df, test_size=0.2, random_state=1)\r\n",
        "print(f\"Shape of train data: {Xtrain.shape}\")\r\n",
        "print(f\"Shape of test data: {Xtest.shape}\")"
      ],
      "execution_count": 5,
      "outputs": [
        {
          "output_type": "stream",
          "text": [
            "Shape of train data: (785404, 3)\n",
            "Shape of test data: (196352, 3)\n"
          ],
          "name": "stdout"
        }
      ]
    },
    {
      "cell_type": "code",
      "metadata": {
        "id": "qSnX_BMHC8tC"
      },
      "source": [
        "#Get the number of unique entities in books and users columns\r\n",
        "nbook_id = ratings_df.book_id.nunique()\r\n",
        "nuser_id = ratings_df.user_id.nunique()"
      ],
      "execution_count": 6,
      "outputs": []
    },
    {
      "cell_type": "code",
      "metadata": {
        "id": "LVHMJjQYEn-A"
      },
      "source": [
        "#Book input network\r\n",
        "input_books = tf.layers.Input(shape=[1])\r\n",
        "embed_books = tf.layers.Embedding(nbook_id + 1,15)(input_books)\r\n",
        "books_out = tf.layers.Flatten()(embed_books)"
      ],
      "execution_count": 7,
      "outputs": []
    },
    {
      "cell_type": "code",
      "metadata": {
        "id": "4e15Zs73Eu4Z"
      },
      "source": [
        "#user input network\r\n",
        "input_users = tf.layers.Input(shape=[1])\r\n",
        "embed_users = tf.layers.Embedding(nuser_id + 1,15)(input_users)\r\n",
        "users_out = tf.layers.Flatten()(embed_users)\r\n"
      ],
      "execution_count": 8,
      "outputs": []
    },
    {
      "cell_type": "code",
      "metadata": {
        "id": "s-RAYk4bExaV"
      },
      "source": [
        "conc_layer = tf.layers.Concatenate()([books_out, users_out])\r\n",
        "x = tf.layers.Dense(128, activation='relu')(conc_layer)\r\n",
        "x_out = x = tf.layers.Dense(1, activation='relu')(x)\r\n",
        "model = tf.Model([input_books, input_users], x_out)"
      ],
      "execution_count": 9,
      "outputs": []
    },
    {
      "cell_type": "code",
      "metadata": {
        "colab": {
          "base_uri": "https://localhost:8080/"
        },
        "id": "EYBNW7xsHQ8d",
        "outputId": "c2535fd7-333c-472f-d41a-13e4c80f3b2d"
      },
      "source": [
        "opt = tf.optimizers.Adam(learning_rate=0.001)\r\n",
        "model.compile(optimizer=opt, loss='mean_squared_error')\r\n",
        "model.summary()\r\n"
      ],
      "execution_count": 10,
      "outputs": [
        {
          "output_type": "stream",
          "text": [
            "Model: \"model\"\n",
            "__________________________________________________________________________________________________\n",
            "Layer (type)                    Output Shape         Param #     Connected to                     \n",
            "==================================================================================================\n",
            "input_1 (InputLayer)            [(None, 1)]          0                                            \n",
            "__________________________________________________________________________________________________\n",
            "input_2 (InputLayer)            [(None, 1)]          0                                            \n",
            "__________________________________________________________________________________________________\n",
            "embedding (Embedding)           (None, 1, 15)        150015      input_1[0][0]                    \n",
            "__________________________________________________________________________________________________\n",
            "embedding_1 (Embedding)         (None, 1, 15)        801375      input_2[0][0]                    \n",
            "__________________________________________________________________________________________________\n",
            "flatten (Flatten)               (None, 15)           0           embedding[0][0]                  \n",
            "__________________________________________________________________________________________________\n",
            "flatten_1 (Flatten)             (None, 15)           0           embedding_1[0][0]                \n",
            "__________________________________________________________________________________________________\n",
            "concatenate (Concatenate)       (None, 30)           0           flatten[0][0]                    \n",
            "                                                                 flatten_1[0][0]                  \n",
            "__________________________________________________________________________________________________\n",
            "dense (Dense)                   (None, 128)          3968        concatenate[0][0]                \n",
            "__________________________________________________________________________________________________\n",
            "dense_1 (Dense)                 (None, 1)            129         dense[0][0]                      \n",
            "==================================================================================================\n",
            "Total params: 955,487\n",
            "Trainable params: 955,487\n",
            "Non-trainable params: 0\n",
            "__________________________________________________________________________________________________\n"
          ],
          "name": "stdout"
        }
      ]
    },
    {
      "cell_type": "code",
      "metadata": {
        "colab": {
          "base_uri": "https://localhost:8080/"
        },
        "id": "U-Dv0EUpHUvs",
        "outputId": "4c37f9af-11e6-41ed-b115-3bef58cfccb9"
      },
      "source": [
        "hist = model.fit([Xtrain.book_id, Xtrain.user_id], Xtrain.rating, \r\n",
        "                 batch_size=64, \r\n",
        "                 epochs=5, \r\n",
        "                 verbose=1,\r\n",
        "                 validation_data=([Xtest.book_id, Xtest.user_id], Xtest.rating))\r\n"
      ],
      "execution_count": 11,
      "outputs": [
        {
          "output_type": "stream",
          "text": [
            "Epoch 1/5\n",
            "12272/12272 [==============================] - 124s 10ms/step - loss: 1.3536 - val_loss: 0.7136\n",
            "Epoch 2/5\n",
            "12272/12272 [==============================] - 123s 10ms/step - loss: 0.6770 - val_loss: 0.7004\n",
            "Epoch 3/5\n",
            "12272/12272 [==============================] - 124s 10ms/step - loss: 0.6374 - val_loss: 0.7012\n",
            "Epoch 4/5\n",
            "12272/12272 [==============================] - 127s 10ms/step - loss: 0.6052 - val_loss: 0.7085\n",
            "Epoch 5/5\n",
            "12272/12272 [==============================] - 127s 10ms/step - loss: 0.5737 - val_loss: 0.7018\n"
          ],
          "name": "stdout"
        }
      ]
    },
    {
      "cell_type": "code",
      "metadata": {
        "colab": {
          "base_uri": "https://localhost:8080/",
          "height": 281
        },
        "id": "TjleQQH1HYYo",
        "outputId": "0c5d84bb-e06b-4897-e687-dc22f300b722"
      },
      "source": [
        "train_loss = hist.history['loss']\r\n",
        "val_loss = hist.history['val_loss']\r\n",
        "plt.plot(train_loss, color='r', label='Train Loss')\r\n",
        "plt.plot(val_loss, color='b', label='Validation Loss')\r\n",
        "plt.title(\"Train and Validation Loss Curve\")\r\n",
        "plt.legend()\r\n",
        "plt.show()\r\n"
      ],
      "execution_count": 12,
      "outputs": [
        {
          "output_type": "display_data",
          "data": {
            "image/png": "[encoded data removed]",
            "text/plain": [
              "<Figure size 432x288 with 1 Axes>"
            ]
          },
          "metadata": {
            "tags": [],
            "needs_background": "light"
          }
        }
      ]
    },
    {
      "cell_type": "code",
      "metadata": {
        "colab": {
          "base_uri": "https://localhost:8080/"
        },
        "id": "4y_fuWySHgLk",
        "outputId": "1ec86410-2bda-4da0-d860-6be2ed3fcccf"
      },
      "source": [
        "#save the model\r\n",
        "model.save('model')"
      ],
      "execution_count": 13,
      "outputs": [
        {
          "output_type": "stream",
          "text": [
            "INFO:tensorflow:Assets written to: model/assets\n"
          ],
          "name": "stdout"
        }
      ]
    },
    {
      "cell_type": "code",
      "metadata": {
        "colab": {
          "base_uri": "https://localhost:8080/"
        },
        "id": "7v0lNzwUJ8s-",
        "outputId": "ca28cdcc-15ee-4111-d6a4-9f5ae5443b78"
      },
      "source": [
        "# Extract embeddings\r\n",
        "book_em = model.get_layer('embedding')\r\n",
        "book_em_weights = book_em.get_weights()[0]\r\n",
        "book_em_weights.shape"
      ],
      "execution_count": 14,
      "outputs": [
        {
          "output_type": "execute_result",
          "data": {
            "text/plain": [
              "(10001, 15)"
            ]
          },
          "metadata": {
            "tags": []
          },
          "execution_count": 14
        }
      ]
    },
    {
      "cell_type": "code",
      "metadata": {
        "id": "5AgZJBO6KUoq"
      },
      "source": [
        "books_df_copy = books_df.copy()\r\n",
        "books_df_copy = books_df_copy.set_index(\"book_id\")\r\n",
        "b_id =list(ratings_df.book_id.unique())\r\n",
        "b_id.remove(10000)\r\n",
        "dict_map = {}\r\n",
        "for i in b_id:\r\n",
        "    dict_map[i] = books_df_copy.iloc[i]['title']\r\n",
        "    \r\n",
        "out_v = open('vecs.tsv', 'w')\r\n",
        "out_m = open('meta.tsv', 'w')\r\n",
        "for i in b_id:\r\n",
        "    book = dict_map[i]\r\n",
        "    embeddings = book_em_weights[i]\r\n",
        "    out_m.write(book + \"\\n\")\r\n",
        "    out_v.write('\\t'.join([str(x) for x in embeddings]) + \"\\n\")\r\n",
        "    \r\n",
        "out_v.close()\r\n",
        "out_m.close()"
      ],
      "execution_count": 16,
      "outputs": []
    },
    {
      "cell_type": "code",
      "metadata": {
        "colab": {
          "base_uri": "https://localhost:8080/"
        },
        "id": "HoX-7s6DNEGx",
        "outputId": "bd3e6a3c-8876-43c6-a9f0-05b2daad5aaa"
      },
      "source": [
        "#Making recommendations for user 100\r\n",
        "book_arr = np.array(b_id) #get all book IDs\r\n",
        "user = np.array([100 for i in range(len(b_id))])\r\n",
        "pred = model.predict([book_arr, user])\r\n",
        "pred"
      ],
      "execution_count": 17,
      "outputs": [
        {
          "output_type": "execute_result",
          "data": {
            "text/plain": [
              "array([[4.1980286],\n",
              "       [4.340911 ],\n",
              "       [3.114496 ],\n",
              "       ...,\n",
              "       [4.335971 ],\n",
              "       [4.107168 ],\n",
              "       [3.4870632]], dtype=float32)"
            ]
          },
          "metadata": {
            "tags": []
          },
          "execution_count": 17
        }
      ]
    },
    {
      "cell_type": "code",
      "metadata": {
        "colab": {
          "base_uri": "https://localhost:8080/",
          "height": 518
        },
        "id": "OPQnIkw9PSMM",
        "outputId": "af08231c-fe7d-4b04-cbfc-e86c260543c0"
      },
      "source": [
        "pred = pred.reshape(-1) #reshape to single dimension\r\n",
        "pred_ids = (-pred).argsort()[0:5]\r\n",
        "pred_ids\r\n",
        "books_df.iloc[pred_ids]\r\n"
      ],
      "execution_count": 19,
      "outputs": [
        {
          "output_type": "execute_result",
          "data": {
            "text/html": [
              "<div>\n",
              "<style scoped>\n",
              "    .dataframe tbody tr th:only-of-type {\n",
              "        vertical-align: middle;\n",
              "    }\n",
              "\n",
              "    .dataframe tbody tr th {\n",
              "        vertical-align: top;\n",
              "    }\n",
              "\n",
              "    .dataframe thead th {\n",
              "        text-align: right;\n",
              "    }\n",
              "</style>\n",
              "<table border=\"1\" class=\"dataframe\">\n",
              "  <thead>\n",
              "    <tr style=\"text-align: right;\">\n",
              "      <th></th>\n",
              "      <th>id</th>\n",
              "      <th>book_id</th>\n",
              "      <th>best_book_id</th>\n",
              "      <th>work_id</th>\n",
              "      <th>books_count</th>\n",
              "      <th>isbn</th>\n",
              "      <th>isbn13</th>\n",
              "      <th>authors</th>\n",
              "      <th>original_publication_year</th>\n",
              "      <th>original_title</th>\n",
              "      <th>title</th>\n",
              "      <th>language_code</th>\n",
              "      <th>average_rating</th>\n",
              "      <th>ratings_count</th>\n",
              "      <th>work_ratings_count</th>\n",
              "      <th>work_text_reviews_count</th>\n",
              "      <th>ratings_1</th>\n",
              "      <th>ratings_2</th>\n",
              "      <th>ratings_3</th>\n",
              "      <th>ratings_4</th>\n",
              "      <th>ratings_5</th>\n",
              "      <th>image_url</th>\n",
              "      <th>small_image_url</th>\n",
              "    </tr>\n",
              "  </thead>\n",
              "  <tbody>\n",
              "    <tr>\n",
              "      <th>7946</th>\n",
              "      <td>7947</td>\n",
              "      <td>5031805</td>\n",
              "      <td>5031805</td>\n",
              "      <td>40769318</td>\n",
              "      <td>96</td>\n",
              "      <td>1433502410</td>\n",
              "      <td>9.781434e+12</td>\n",
              "      <td>Anonymous, Lane T. Dennis, Wayne A. Grudem</td>\n",
              "      <td>2002.0</td>\n",
              "      <td>NaN</td>\n",
              "      <td>ESV Study Bible</td>\n",
              "      <td>eng</td>\n",
              "      <td>4.76</td>\n",
              "      <td>8953</td>\n",
              "      <td>10784</td>\n",
              "      <td>262</td>\n",
              "      <td>98</td>\n",
              "      <td>90</td>\n",
              "      <td>367</td>\n",
              "      <td>1152</td>\n",
              "      <td>9077</td>\n",
              "      <td>https://images.gr-assets.com/books/1410151002m...</td>\n",
              "      <td>https://images.gr-assets.com/books/1410151002s...</td>\n",
              "    </tr>\n",
              "    <tr>\n",
              "      <th>3627</th>\n",
              "      <td>3628</td>\n",
              "      <td>24812</td>\n",
              "      <td>24812</td>\n",
              "      <td>25599</td>\n",
              "      <td>14</td>\n",
              "      <td>740748475</td>\n",
              "      <td>9.780741e+12</td>\n",
              "      <td>Bill Watterson</td>\n",
              "      <td>2005.0</td>\n",
              "      <td>The Complete Calvin and Hobbes</td>\n",
              "      <td>The Complete Calvin and Hobbes</td>\n",
              "      <td>eng</td>\n",
              "      <td>4.82</td>\n",
              "      <td>28900</td>\n",
              "      <td>29968</td>\n",
              "      <td>861</td>\n",
              "      <td>120</td>\n",
              "      <td>154</td>\n",
              "      <td>693</td>\n",
              "      <td>3117</td>\n",
              "      <td>25884</td>\n",
              "      <td>https://images.gr-assets.com/books/1473064526m...</td>\n",
              "      <td>https://images.gr-assets.com/books/1473064526s...</td>\n",
              "    </tr>\n",
              "    <tr>\n",
              "      <th>5206</th>\n",
              "      <td>5207</td>\n",
              "      <td>24818</td>\n",
              "      <td>24818</td>\n",
              "      <td>946589</td>\n",
              "      <td>28</td>\n",
              "      <td>836217357</td>\n",
              "      <td>9.780836e+12</td>\n",
              "      <td>Bill Watterson</td>\n",
              "      <td>1993.0</td>\n",
              "      <td>The Days Are Just Packed: A Calvin and Hobbes ...</td>\n",
              "      <td>The Days Are Just Packed: A Calvin and Hobbes ...</td>\n",
              "      <td>en-US</td>\n",
              "      <td>4.68</td>\n",
              "      <td>19143</td>\n",
              "      <td>20374</td>\n",
              "      <td>228</td>\n",
              "      <td>114</td>\n",
              "      <td>149</td>\n",
              "      <td>942</td>\n",
              "      <td>3636</td>\n",
              "      <td>15533</td>\n",
              "      <td>https://images.gr-assets.com/books/1418211162m...</td>\n",
              "      <td>https://images.gr-assets.com/books/1418211162s...</td>\n",
              "    </tr>\n",
              "    <tr>\n",
              "      <th>4482</th>\n",
              "      <td>4483</td>\n",
              "      <td>24814</td>\n",
              "      <td>24814</td>\n",
              "      <td>25601</td>\n",
              "      <td>21</td>\n",
              "      <td>836221362</td>\n",
              "      <td>9.780836e+12</td>\n",
              "      <td>Bill Watterson</td>\n",
              "      <td>1996.0</td>\n",
              "      <td>It's a Magical World: A Calvin and Hobbes Coll...</td>\n",
              "      <td>It's a Magical World: A Calvin and Hobbes Coll...</td>\n",
              "      <td>eng</td>\n",
              "      <td>4.75</td>\n",
              "      <td>22351</td>\n",
              "      <td>23429</td>\n",
              "      <td>264</td>\n",
              "      <td>36</td>\n",
              "      <td>57</td>\n",
              "      <td>850</td>\n",
              "      <td>3737</td>\n",
              "      <td>18749</td>\n",
              "      <td>https://images.gr-assets.com/books/1437420710m...</td>\n",
              "      <td>https://images.gr-assets.com/books/1437420710s...</td>\n",
              "    </tr>\n",
              "    <tr>\n",
              "      <th>6919</th>\n",
              "      <td>6920</td>\n",
              "      <td>24815</td>\n",
              "      <td>24815</td>\n",
              "      <td>25602</td>\n",
              "      <td>19</td>\n",
              "      <td>751500283</td>\n",
              "      <td>9.780752e+12</td>\n",
              "      <td>Bill Watterson</td>\n",
              "      <td>1992.0</td>\n",
              "      <td>The Indispensable Calvin and Hobbes: A Calvin ...</td>\n",
              "      <td>The Indispensable Calvin and Hobbes</td>\n",
              "      <td>eng</td>\n",
              "      <td>4.73</td>\n",
              "      <td>14597</td>\n",
              "      <td>16911</td>\n",
              "      <td>325</td>\n",
              "      <td>19</td>\n",
              "      <td>62</td>\n",
              "      <td>666</td>\n",
              "      <td>2969</td>\n",
              "      <td>13195</td>\n",
              "      <td>https://s.gr-assets.com/assets/nophoto/book/11...</td>\n",
              "      <td>https://s.gr-assets.com/assets/nophoto/book/50...</td>\n",
              "    </tr>\n",
              "  </tbody>\n",
              "</table>\n",
              "</div>"
            ],
            "text/plain": [
              "        id  ...                                    small_image_url\n",
              "7946  7947  ...  https://images.gr-assets.com/books/1410151002s...\n",
              "3627  3628  ...  https://images.gr-assets.com/books/1473064526s...\n",
              "5206  5207  ...  https://images.gr-assets.com/books/1418211162s...\n",
              "4482  4483  ...  https://images.gr-assets.com/books/1437420710s...\n",
              "6919  6920  ...  https://s.gr-assets.com/assets/nophoto/book/50...\n",
              "\n",
              "[5 rows x 23 columns]"
            ]
          },
          "metadata": {
            "tags": []
          },
          "execution_count": 19
        }
      ]
    },
    {
      "cell_type": "code",
      "metadata": {
        "colab": {
          "base_uri": "https://localhost:8080/",
          "height": 279
        },
        "id": "68fu32XKPXou",
        "outputId": "b9a5981f-dacd-4ed6-9ea6-8e1df2d0133d"
      },
      "source": [
        "web_book_data = books_df[[\"book_id\", \"title\", \"image_url\", \"authors\"]]\r\n",
        "web_book_data = web_book_data.sort_values('book_id')\r\n",
        "web_book_data.head()"
      ],
      "execution_count": 20,
      "outputs": [
        {
          "output_type": "execute_result",
          "data": {
            "text/html": [
              "<div>\n",
              "<style scoped>\n",
              "    .dataframe tbody tr th:only-of-type {\n",
              "        vertical-align: middle;\n",
              "    }\n",
              "\n",
              "    .dataframe tbody tr th {\n",
              "        vertical-align: top;\n",
              "    }\n",
              "\n",
              "    .dataframe thead th {\n",
              "        text-align: right;\n",
              "    }\n",
              "</style>\n",
              "<table border=\"1\" class=\"dataframe\">\n",
              "  <thead>\n",
              "    <tr style=\"text-align: right;\">\n",
              "      <th></th>\n",
              "      <th>book_id</th>\n",
              "      <th>title</th>\n",
              "      <th>image_url</th>\n",
              "      <th>authors</th>\n",
              "    </tr>\n",
              "  </thead>\n",
              "  <tbody>\n",
              "    <tr>\n",
              "      <th>26</th>\n",
              "      <td>1</td>\n",
              "      <td>Harry Potter and the Half-Blood Prince (Harry ...</td>\n",
              "      <td>https://images.gr-assets.com/books/1361039191m...</td>\n",
              "      <td>J.K. Rowling, Mary GrandPré</td>\n",
              "    </tr>\n",
              "    <tr>\n",
              "      <th>20</th>\n",
              "      <td>2</td>\n",
              "      <td>Harry Potter and the Order of the Phoenix (Har...</td>\n",
              "      <td>https://images.gr-assets.com/books/1387141547m...</td>\n",
              "      <td>J.K. Rowling, Mary GrandPré</td>\n",
              "    </tr>\n",
              "    <tr>\n",
              "      <th>1</th>\n",
              "      <td>3</td>\n",
              "      <td>Harry Potter and the Sorcerer's Stone (Harry P...</td>\n",
              "      <td>https://images.gr-assets.com/books/1474154022m...</td>\n",
              "      <td>J.K. Rowling, Mary GrandPré</td>\n",
              "    </tr>\n",
              "    <tr>\n",
              "      <th>17</th>\n",
              "      <td>5</td>\n",
              "      <td>Harry Potter and the Prisoner of Azkaban (Harr...</td>\n",
              "      <td>https://images.gr-assets.com/books/1499277281m...</td>\n",
              "      <td>J.K. Rowling, Mary GrandPré, Rufus Beck</td>\n",
              "    </tr>\n",
              "    <tr>\n",
              "      <th>23</th>\n",
              "      <td>6</td>\n",
              "      <td>Harry Potter and the Goblet of Fire (Harry Pot...</td>\n",
              "      <td>https://images.gr-assets.com/books/1361482611m...</td>\n",
              "      <td>J.K. Rowling, Mary GrandPré</td>\n",
              "    </tr>\n",
              "  </tbody>\n",
              "</table>\n",
              "</div>"
            ],
            "text/plain": [
              "    book_id  ...                                  authors\n",
              "26        1  ...              J.K. Rowling, Mary GrandPré\n",
              "20        2  ...              J.K. Rowling, Mary GrandPré\n",
              "1         3  ...              J.K. Rowling, Mary GrandPré\n",
              "17        5  ...  J.K. Rowling, Mary GrandPré, Rufus Beck\n",
              "23        6  ...              J.K. Rowling, Mary GrandPré\n",
              "\n",
              "[5 rows x 4 columns]"
            ]
          },
          "metadata": {
            "tags": []
          },
          "execution_count": 20
        }
      ]
    },
    {
      "cell_type": "code",
      "metadata": {
        "id": "9CMHYbgGQRGN"
      },
      "source": [
        "web_book_data.to_json(r'web_book_data.json', orient='records')"
      ],
      "execution_count": 23,
      "outputs": []
    },
    {
      "cell_type": "code",
      "metadata": {
        "id": "G6swdwRGQqEO"
      },
      "source": [
        ""
      ],
      "execution_count": null,
      "outputs": []
    }
  ]
}